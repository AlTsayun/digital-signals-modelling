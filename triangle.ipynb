{
 "cells": [
  {
   "cell_type": "code",
   "execution_count": 29,
   "source": [
    "from ipywidgets import widgets\n",
    "import matplotlib.pyplot as plt\n",
    "from common import *\n",
    "\n",
    "def getTriangleFunc(a, t, phi):\n",
    "    def calculate(x):\n",
    "        param = (x - phi) % t\n",
    "        if (param < float(t) / 4):\n",
    "            return param / (t / 4) * a\n",
    "        elif (param < float(t) * 3 / 4):\n",
    "            return -(param - float(t) / 2) / (t / 4) * a\n",
    "        else:\n",
    "            return (param  - float(t)) / (t / 4) * a\n",
    "    return lambda x: calculate(x)\n",
    "\n",
    "def output(strA,  strT, strPhi, strRange, maxN):\n",
    "    try:\n",
    "        xs = range(int(strRange))\n",
    "        for a in parseArray(strA):\n",
    "            for t in parseArray(strT):\n",
    "                for phi in parseArray(strPhi):\n",
    "                    func = getSampledFunc(getTriangleFunc(a, t, phi), int(maxN))\n",
    "                    plt.plot(xs, [func(x) for x in xs])\n",
    "        plt.rcParams['figure.figsize'] = [16, 5]\n",
    "        plt.show()\n",
    "    except ValueError:\n",
    "        print(\"Illegal values\")\n",
    "\n",
    "widgets.interact(output, \n",
    "                 strA=widgets.Text(description=\"A\", value=\"1\"), \n",
    "                 strT=widgets.Text(description=\"T\", value=\"40\"),\n",
    "                 strPhi=widgets.Text(description=\"Phi\", value=\"5\"),\n",
    "                 strRange=widgets.Text(description=\"Range\", value=\"500\"),\n",
    "                 maxN=widgets.SelectionSlider(options=[1, 2, 4, 8, 16, 32, 64, 128, 256, 512, 1024, 2048, 4096, 8192], value=2, description=\"N\"))"
   ],
   "outputs": [
    {
     "output_type": "display_data",
     "data": {
      "application/vnd.jupyter.widget-view+json": {
       "version_major": 2,
       "version_minor": 0,
       "model_id": "df980bc1534247ae8c779a6eb47256d5"
      },
      "text/plain": [
       "interactive(children=(Text(value='1', description='A'), Text(value='40', description='T'), Text(value='5', des…"
      ]
     },
     "metadata": {}
    },
    {
     "output_type": "execute_result",
     "data": {
      "text/plain": [
       "<function __main__.output(strA, strT, strPhi, strRange, maxN)>"
      ]
     },
     "metadata": {},
     "execution_count": 29
    }
   ],
   "metadata": {}
  }
 ],
 "metadata": {
  "orig_nbformat": 4,
  "language_info": {
   "name": "python",
   "version": "3.9.5",
   "mimetype": "text/x-python",
   "codemirror_mode": {
    "name": "ipython",
    "version": 3
   },
   "pygments_lexer": "ipython3",
   "nbconvert_exporter": "python",
   "file_extension": ".py"
  },
  "kernelspec": {
   "name": "python3",
   "display_name": "Python 3.9.5 64-bit"
  },
  "interpreter": {
   "hash": "e7370f93d1d0cde622a1f8e1c04877d8463912d04d973331ad4851f04de6915a"
  }
 },
 "nbformat": 4,
 "nbformat_minor": 2
}