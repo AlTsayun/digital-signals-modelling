{
 "cells": [
  {
   "cell_type": "code",
   "execution_count": 3,
   "source": [
    "import common\n",
    "import importlib\n",
    "import matplotlib.pyplot as plt\n",
    "import numpy as np\n",
    "from ipywidgets import widgets\n",
    "importlib.reload(common)\n",
    "from common import *\n",
    "\n",
    "def output(strA,  strT, strPhi, maxN):\n",
    "    try:\n",
    "        xs = np.arange(0, int(maxN) * 4, 0.1)\n",
    "        for a in parseArray(strA):\n",
    "            for t in parseArray(strT):\n",
    "                for phi in parseArray(strPhi):\n",
    "                    func = getSampledFunc(getTriangleFunc(a, t * maxN, phi), 1)\n",
    "                    plt.plot(xs, [func(x) for x in xs])\n",
    "        plt.rcParams['figure.figsize'] = [16, 5]\n",
    "        plt.show()\n",
    "    except ValueError:\n",
    "        print(\"Illegal values\")\n",
    "\n",
    "widgets.interact(output, \n",
    "                 strA=widgets.Text(description=\"A\", value=\"1\"), \n",
    "                 strT=widgets.Text(description=\"T\", value=\"1\"),\n",
    "                 strPhi=widgets.Text(description=\"Phi\", value=\"5\"),\n",
    "                 maxN=widgets.SelectionSlider(options=getPowersOfTwo(0, 15), value=4, description=\"N\"))"
   ],
   "outputs": [
    {
     "output_type": "display_data",
     "data": {
      "application/vnd.jupyter.widget-view+json": {
       "version_major": 2,
       "version_minor": 0,
       "model_id": "64212561b45d4b7d8245e426fc0c12f0"
      },
      "text/plain": [
       "interactive(children=(Text(value='1', description='A'), Text(value='1', description='T'), Text(value='5', desc…"
      ]
     },
     "metadata": {}
    },
    {
     "output_type": "execute_result",
     "data": {
      "text/plain": [
       "<function __main__.output(strA, strT, strPhi, maxN)>"
      ]
     },
     "metadata": {},
     "execution_count": 3
    }
   ],
   "metadata": {}
  }
 ],
 "metadata": {
  "orig_nbformat": 4,
  "language_info": {
   "name": "python",
   "version": "3.9.5",
   "mimetype": "text/x-python",
   "codemirror_mode": {
    "name": "ipython",
    "version": 3
   },
   "pygments_lexer": "ipython3",
   "nbconvert_exporter": "python",
   "file_extension": ".py"
  },
  "kernelspec": {
   "name": "python3",
   "display_name": "Python 3.9.5 64-bit"
  },
  "interpreter": {
   "hash": "e7370f93d1d0cde622a1f8e1c04877d8463912d04d973331ad4851f04de6915a"
  }
 },
 "nbformat": 4,
 "nbformat_minor": 2
}