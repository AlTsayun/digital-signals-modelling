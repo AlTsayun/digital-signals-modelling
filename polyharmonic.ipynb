{
 "cells": [
  {
   "cell_type": "code",
   "execution_count": 2,
   "source": [
    "import common\n",
    "import importlib\n",
    "import matplotlib.pyplot as plt\n",
    "import numpy as np\n",
    "from ipywidgets import widgets\n",
    "importlib.reload(common)\n",
    "from common import *\n",
    "\n",
    "def output(strA, strF, strPhi, strK, maxN):\n",
    "    try:\n",
    "        step = 1 / float(maxN)\n",
    "        xs = np.arange(0, 4, 0.01)\n",
    "        arrA = parseArray(strA)\n",
    "        arrF = parseArray(strF)\n",
    "        arrPhi = parseArray(strPhi)\n",
    "        try:\n",
    "            func = getSampledFunc(sumFuncs([getTaylorHarmonicFunc(arrA[i], arrF[i], arrPhi[i], 60) for i in range(parseNatural(strK))]), step)\n",
    "            plt.plot(xs, [func(x) for x in xs])\n",
    "            plt.rcParams['figure.figsize'] = [16, 5]\n",
    "            plt.show()\n",
    "        except IndexError:\n",
    "            raise ValueError\n",
    "    except ValueError:\n",
    "        print(\"Illegal values\")\n",
    "\n",
    "\n",
    "widgets.interact(output, \n",
    "                 strA=widgets.Text(description=\"A\", value=\"sin(x), 1, 1, 1, 1\"), \n",
    "                 strF=widgets.Text(description=\"f\", value=\"1, 1, 1, 1.2, 1\"), \n",
    "                 strPhi=widgets.Text(description=\"Phi\", value=\"0, pi, pi, 2*pi, pi\"),\n",
    "                 strK=widgets.Text(description=\"k\", value=\"5\"),\n",
    "                 maxN=widgets.SelectionSlider(options=getPowersOfTwo(0, 15), value=16, description=\"N\"))"
   ],
   "outputs": [
    {
     "output_type": "display_data",
     "data": {
      "application/vnd.jupyter.widget-view+json": {
       "version_major": 2,
       "version_minor": 0,
       "model_id": "45d2704b6f204ab491d57e6fbf5ceb25"
      },
      "text/plain": [
       "interactive(children=(Text(value='sin(x), 1, 1, 1, 1', description='A'), Text(value='1, 1, 1, 1.2, 1', descrip…"
      ]
     },
     "metadata": {}
    },
    {
     "output_type": "execute_result",
     "data": {
      "text/plain": [
       "<function __main__.output(strA, strF, strPhi, strK, maxN)>"
      ]
     },
     "metadata": {},
     "execution_count": 2
    }
   ],
   "metadata": {}
  }
 ],
 "metadata": {
  "orig_nbformat": 4,
  "language_info": {
   "name": "python",
   "version": "3.9.5",
   "mimetype": "text/x-python",
   "codemirror_mode": {
    "name": "ipython",
    "version": 3
   },
   "pygments_lexer": "ipython3",
   "nbconvert_exporter": "python",
   "file_extension": ".py"
  },
  "kernelspec": {
   "name": "python3",
   "display_name": "Python 3.9.5 64-bit"
  },
  "interpreter": {
   "hash": "e7370f93d1d0cde622a1f8e1c04877d8463912d04d973331ad4851f04de6915a"
  }
 },
 "nbformat": 4,
 "nbformat_minor": 2
}