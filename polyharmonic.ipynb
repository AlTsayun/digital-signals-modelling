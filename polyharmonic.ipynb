{
 "cells": [
  {
   "cell_type": "code",
   "execution_count": 6,
   "source": [
    "from ipywidgets import widgets\n",
    "import matplotlib.pyplot as plt\n",
    "from common import *\n",
    "\n",
    "def sumFunctions(x, funcs):\n",
    "    return sum([func(x) for func in funcs])\n",
    "\n",
    "def outputPolyharmonic(strA, strPhi, strF, strK, maxN):\n",
    "    try:\n",
    "        xs = range(maxN)\n",
    "        arrA = parseArray(strA)\n",
    "        arrPhi = parseArray(strPhi)\n",
    "        arrF = parseArray(strF)\n",
    "        try:\n",
    "            plt.plot(xs, [sumFunctions(x, [getHarmonicFunction(arrA[i], maxN, arrPhi[i], arrF[i]) for i in range(parseNatural(strK))]) for x in xs])\n",
    "            plt.rcParams['figure.figsize'] = [16, 5]\n",
    "            plt.show()\n",
    "        except IndexError:\n",
    "            raise ValueError\n",
    "    except ValueError:\n",
    "        print(\"Illegal values\")\n",
    "\n",
    "\n",
    "widgets.interact(outputPolyharmonic, \n",
    "                 strA=widgets.Text(description=\"A\", value=\"1, 1, 1, 1, 1\"), \n",
    "                 strPhi=widgets.Text(description=\"Phi\", value=\"0, pi/4, pi/6, 2*pi, pi\"),\n",
    "                 strF=widgets.Text(description=\"f\", value=\"1, 2, 3, 4, 5\"), \n",
    "                 strK=widgets.Text(description=\"k\", value=\"5\"), \n",
    "                 maxN=widgets.SelectionSlider(options=[32, 64, 128, 256, 512, 1024, 2048, 4096, 8192], value=512, description=\"N\"))"
   ],
   "outputs": [
    {
     "output_type": "display_data",
     "data": {
      "application/vnd.jupyter.widget-view+json": {
       "version_major": 2,
       "version_minor": 0,
       "model_id": "8b046de74a8d4d4fbcc73c8c54ae22ac"
      },
      "text/plain": [
       "interactive(children=(Text(value='1, 1, 1, 1, 1', description='A'), Text(value='0, pi/4, pi/6, 2*pi, pi', desc…"
      ]
     },
     "metadata": {}
    },
    {
     "output_type": "execute_result",
     "data": {
      "text/plain": [
       "<function __main__.outputPolyharmonic(strA, strPhi, strF, strK, maxN)>"
      ]
     },
     "metadata": {},
     "execution_count": 6
    }
   ],
   "metadata": {}
  }
 ],
 "metadata": {
  "orig_nbformat": 4,
  "language_info": {
   "name": "python",
   "version": "3.9.5",
   "mimetype": "text/x-python",
   "codemirror_mode": {
    "name": "ipython",
    "version": 3
   },
   "pygments_lexer": "ipython3",
   "nbconvert_exporter": "python",
   "file_extension": ".py"
  },
  "kernelspec": {
   "name": "python3",
   "display_name": "Python 3.9.5 64-bit"
  },
  "interpreter": {
   "hash": "e7370f93d1d0cde622a1f8e1c04877d8463912d04d973331ad4851f04de6915a"
  }
 },
 "nbformat": 4,
 "nbformat_minor": 2
}