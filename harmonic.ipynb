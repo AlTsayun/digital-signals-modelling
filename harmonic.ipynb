{
 "cells": [
  {
   "cell_type": "code",
   "execution_count": 40,
   "source": [
    "import common\n",
    "import importlib\n",
    "import matplotlib.pyplot as plt\n",
    "import numpy as np\n",
    "from ipywidgets import widgets\n",
    "importlib.reload(common)\n",
    "from common import *\n",
    "\n",
    "def output(strA, strPhi, strF, maxN):\n",
    "    try:\n",
    "        xs = np.arange(0, maxN * 4, 0.1)\n",
    "        for a in parseArray(strA):\n",
    "            for phi in parseArray(strPhi):\n",
    "                for f in parseArray(strF):\n",
    "                    plt.plot(xs,[getSampledFunc(getTaylorHarmonicFunc(a, maxN, phi, f, 60), 1)(x) for x in xs] )\n",
    "        plt.rcParams['figure.figsize'] = [16, 5]\n",
    "        plt.show()\n",
    "    except ValueError:\n",
    "        print(\"Illegal values\")\n",
    "\n",
    "widgets.interact(output, \n",
    "                 strA=widgets.Text(description=\"A\", value=\"sin(x)\"), \n",
    "                 strPhi=widgets.Text(description=\"Phi\", value=\"pi\"),\n",
    "                 strF=widgets.Text(description=\"f\", value=\"1.4, 1.5\"), \n",
    "                 maxN=widgets.SelectionSlider(options=getPowersOfTwo(0, 15), value=32, description=\"N\"))\n"
   ],
   "outputs": [
    {
     "output_type": "display_data",
     "data": {
      "application/vnd.jupyter.widget-view+json": {
       "version_major": 2,
       "version_minor": 0,
       "model_id": "7e59f9ea361c4e84a7cfe366fe6eb059"
      },
      "text/plain": [
       "interactive(children=(Text(value='sin(x)', description='A'), Text(value='pi', description='Phi'), Text(value='…"
      ]
     },
     "metadata": {}
    },
    {
     "output_type": "execute_result",
     "data": {
      "text/plain": [
       "<function __main__.output(strA, strPhi, strF, maxN)>"
      ]
     },
     "metadata": {},
     "execution_count": 40
    }
   ],
   "metadata": {}
  }
 ],
 "metadata": {
  "orig_nbformat": 4,
  "language_info": {
   "name": "python",
   "version": "3.9.5",
   "mimetype": "text/x-python",
   "codemirror_mode": {
    "name": "ipython",
    "version": 3
   },
   "pygments_lexer": "ipython3",
   "nbconvert_exporter": "python",
   "file_extension": ".py"
  },
  "kernelspec": {
   "name": "python3",
   "display_name": "Python 3.9.5 64-bit"
  },
  "interpreter": {
   "hash": "e7370f93d1d0cde622a1f8e1c04877d8463912d04d973331ad4851f04de6915a"
  }
 },
 "nbformat": 4,
 "nbformat_minor": 2
}