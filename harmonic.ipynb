{
 "cells": [
  {
   "cell_type": "code",
   "execution_count": 4,
   "source": [
    "import common\n",
    "import importlib\n",
    "import matplotlib.pyplot as plt\n",
    "import numpy as np\n",
    "from ipywidgets import widgets\n",
    "importlib.reload(common)\n",
    "from common import *\n",
    "\n",
    "def output(strA, strF, strPhi, maxN):\n",
    "    try:\n",
    "        step = 1 / float(maxN)\n",
    "        xs = np.arange(0, 4, 0.01)\n",
    "        for a in parseArray(strA):\n",
    "            for f in parseArray(strF):\n",
    "                for phi in parseArray(strPhi):\n",
    "                    plt.plot(xs,[getSampledFunc(getTaylorHarmonicFunc(a, f, phi, 60), step)(x) for x in xs] )\n",
    "        plt.rcParams['figure.figsize'] = [16, 5]\n",
    "        plt.show()\n",
    "    except ValueError:\n",
    "        print(\"Illegal values\")\n",
    "\n",
    "widgets.interact(output, \n",
    "                 strA=widgets.Text(description=\"A\", value=\"sin(x)\"), \n",
    "                 strF=widgets.Text(description=\"f\", value=\"1.4, 1.5\"), \n",
    "                 strPhi=widgets.Text(description=\"Phi\", value=\"pi\"),\n",
    "                 maxN=widgets.SelectionSlider(options=getPowersOfTwo(0, 15), value=32, description=\"N\"))\n"
   ],
   "outputs": [
    {
     "output_type": "display_data",
     "data": {
      "application/vnd.jupyter.widget-view+json": {
       "version_major": 2,
       "version_minor": 0,
       "model_id": "730e54899d54417e9b236605599e831e"
      },
      "text/plain": [
       "interactive(children=(Text(value='sin(x)', description='A'), Text(value='pi', description='Phi'), Text(value='…"
      ]
     },
     "metadata": {}
    },
    {
     "output_type": "execute_result",
     "data": {
      "text/plain": [
       "<function __main__.output(strA, strPhi, strF, maxN)>"
      ]
     },
     "metadata": {},
     "execution_count": 4
    }
   ],
   "metadata": {}
  },
  {
   "cell_type": "code",
   "execution_count": null,
   "source": [],
   "outputs": [],
   "metadata": {}
  }
 ],
 "metadata": {
  "interpreter": {
   "hash": "e7370f93d1d0cde622a1f8e1c04877d8463912d04d973331ad4851f04de6915a"
  },
  "kernelspec": {
   "name": "python3",
   "display_name": "Python 3.9.5 64-bit"
  },
  "language_info": {
   "codemirror_mode": {
    "name": "ipython",
    "version": 3
   },
   "file_extension": ".py",
   "mimetype": "text/x-python",
   "name": "python",
   "nbconvert_exporter": "python",
   "pygments_lexer": "ipython3",
   "version": "3.9.5"
  }
 },
 "nbformat": 4,
 "nbformat_minor": 2
}