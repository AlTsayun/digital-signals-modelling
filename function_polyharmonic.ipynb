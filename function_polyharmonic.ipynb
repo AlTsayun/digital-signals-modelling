{
 "cells": [
  {
   "cell_type": "code",
   "execution_count": 3,
   "source": [
    "from ipywidgets import widgets\n",
    "import matplotlib.pyplot as plt\n",
    "from common import *\n",
    "\n",
    "def parseFunction(str):\n",
    "    def execute(x):\n",
    "        try:\n",
    "            return float(eval(str, { \"x\": x, \"pi\": math.pi, \"sin\": math.sin, \"cos\": math.cos }))\n",
    "        except:\n",
    "            raise ValueError\n",
    "    return lambda x: execute(x)\n",
    "\n",
    "def outputLinearPolyharmonic(strA, strPhi, strF, maxN):\n",
    "    try:\n",
    "        xs = range(maxN)\n",
    "        funcA = parseFunction(strA)\n",
    "        funcPhi = parseFunction(strPhi)\n",
    "        funcF = parseFunction(strF)\n",
    "        plt.plot(xs, [getHarmonicFunction(funcA(x), maxN, funcPhi(x), funcF(x))(x) for x in xs])\n",
    "        plt.rcParams['figure.figsize'] = [16, 5]\n",
    "        plt.show()\n",
    "    except ValueError:\n",
    "        print(\"Illegal values\")\n",
    "\n",
    "widgets.interact(outputLinearPolyharmonic, \n",
    "                 strA=widgets.Text(description=\"𝐴\", value=\"sin(x)\"), \n",
    "                 strPhi=widgets.Text(description=\"𝜑\", value=\"sin(x)\"),\n",
    "                 strF=widgets.Text(description=\"𝑓\", value=\"x + 3\"),\n",
    "                 maxN=widgets.SelectionSlider(options=[32, 64, 128, 256, 512, 1024, 2048, 4096, 8192], value=512, description=\"𝑁\"))"
   ],
   "outputs": [
    {
     "output_type": "display_data",
     "data": {
      "application/vnd.jupyter.widget-view+json": {
       "version_major": 2,
       "version_minor": 0,
       "model_id": "6d70f2bac5e34e9e9ef460db1133d465"
      },
      "text/plain": [
       "interactive(children=(Text(value='sin(x)', description='𝐴'), Text(value='sin(x)', description='𝜑'), Text(value…"
      ]
     },
     "metadata": {}
    },
    {
     "output_type": "execute_result",
     "data": {
      "text/plain": [
       "<function __main__.outputLinearPolyharmonic(strA, strPhi, strF, maxN)>"
      ]
     },
     "metadata": {},
     "execution_count": 3
    }
   ],
   "metadata": {}
  }
 ],
 "metadata": {
  "orig_nbformat": 4,
  "language_info": {
   "name": "python",
   "version": "3.9.5",
   "mimetype": "text/x-python",
   "codemirror_mode": {
    "name": "ipython",
    "version": 3
   },
   "pygments_lexer": "ipython3",
   "nbconvert_exporter": "python",
   "file_extension": ".py"
  },
  "kernelspec": {
   "name": "python3",
   "display_name": "Python 3.9.5 64-bit"
  },
  "interpreter": {
   "hash": "e7370f93d1d0cde622a1f8e1c04877d8463912d04d973331ad4851f04de6915a"
  }
 },
 "nbformat": 4,
 "nbformat_minor": 2
}